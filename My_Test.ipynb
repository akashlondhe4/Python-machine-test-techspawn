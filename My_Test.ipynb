{
 "cells": [
  {
   "cell_type": "code",
   "execution_count": 1,
   "metadata": {},
   "outputs": [
    {
     "data": {
      "text/plain": [
       "\"1. Write a program which takes 2 digits, X,Y as input and generates a\\n2-dimensional array.\\nExample:\\nSuppose the following inputs are given to the program:\\n3,5\\nThen, the output of the program should be:\\n[[0, 0, 0, 0, 0], [0, 1, 2, 3, 4], [0, 2, 4, 6, 8]]\\nNote: Values inside array can be any.(it's up to candidate)\""
      ]
     },
     "execution_count": 1,
     "metadata": {},
     "output_type": "execute_result"
    }
   ],
   "source": [
    "'''1. Write a program which takes 2 digits, X,Y as input and generates a\n",
    "2-dimensional array.\n",
    "Example:\n",
    "Suppose the following inputs are given to the program:\n",
    "3,5\n",
    "Then, the output of the program should be:\n",
    "[[0, 0, 0, 0, 0], [0, 1, 2, 3, 4], [0, 2, 4, 6, 8]]\n",
    "Note: Values inside array can be any.(it's up to candidate)'''"
   ]
  },
  {
   "cell_type": "code",
   "execution_count": 2,
   "metadata": {},
   "outputs": [
    {
     "name": "stdout",
     "output_type": "stream",
     "text": [
      "Input number of rows: 3\n",
      "Input number of columns: 5\n",
      "[[0, 0, 0, 0, 0], [0, 1, 2, 3, 4], [0, 2, 4, 6, 8]]\n"
     ]
    }
   ],
   "source": [
    "x = int(input(\"Input number of rows: \"))\n",
    "y = int(input(\"Input number of columns: \"))\n",
    "xy_list = [[0 for col in range(y)] for row in range(x)]\n",
    "\n",
    "for row in range(x):\n",
    "    for col in range(y):\n",
    "        xy_list[row][col]= row*col\n",
    "\n",
    "print(xy_list)"
   ]
  },
  {
   "cell_type": "code",
   "execution_count": 2,
   "metadata": {},
   "outputs": [
    {
     "data": {
      "text/plain": [
       "'2. Assume some email address like \"username@companyname.com\",\\nnow write a snippet that extracts the company name of a given email\\naddress.\\nexpected result of code:\\nEnter your email: shubhamb@techspawn.com\\nYour company name is: techspawn'"
      ]
     },
     "execution_count": 2,
     "metadata": {},
     "output_type": "execute_result"
    }
   ],
   "source": [
    "'''2. Assume some email address like \"username@companyname.com\",\n",
    "now write a snippet that extracts the company name of a given email\n",
    "address.\n",
    "expected result of code:\n",
    "Enter your email: shubhamb@techspawn.com\n",
    "Your company name is: techspawn'''"
   ]
  },
  {
   "cell_type": "code",
   "execution_count": 4,
   "metadata": {},
   "outputs": [
    {
     "name": "stdout",
     "output_type": "stream",
     "text": [
      "Enter your email:shubhamb@techspawn.com\n",
      "Your company name is: techspawn\n"
     ]
    }
   ],
   "source": [
    "import re\n",
    "email = input(\"Enter your email:\")\n",
    "print(\"Your company name is:\",re.findall(r'\\w+[.]', email)[0][:-1])"
   ]
  },
  {
   "cell_type": "code",
   "execution_count": 3,
   "metadata": {},
   "outputs": [
    {
     "data": {
      "text/plain": [
       "'3. Write a code that accepts the 2 lists and generates the following\\nresult.\\nEmployee = [‘Amit’,’Manish’,’Mahi’,’Kirti’,’Mafin’]\\nSalary = [20000,30000,20000,40000,25000]\\nExpected result of code:\\n{‘Amit’:20000,’Manish’:30000,’Mahi’:20000,’Kirti’:40000,’Mafin’:25000 }'"
      ]
     },
     "execution_count": 3,
     "metadata": {},
     "output_type": "execute_result"
    }
   ],
   "source": [
    "'''3. Write a code that accepts the 2 lists and generates the following\n",
    "result.\n",
    "Employee = [‘Amit’,’Manish’,’Mahi’,’Kirti’,’Mafin’]\n",
    "Salary = [20000,30000,20000,40000,25000]\n",
    "Expected result of code:\n",
    "{‘Amit’:20000,’Manish’:30000,’Mahi’:20000,’Kirti’:40000,’Mafin’:25000 }'''"
   ]
  },
  {
   "cell_type": "code",
   "execution_count": 6,
   "metadata": {},
   "outputs": [
    {
     "name": "stdout",
     "output_type": "stream",
     "text": [
      "{'Amit': 20000, 'Manish': 30000, 'Mahi': 20000, 'Kirti': 40000, 'Mafin': 25000}\n"
     ]
    }
   ],
   "source": [
    "Employee = ['Amit','Manish','Mahi','Kirti','Mafin']\n",
    "Salary = [20000,30000,20000,40000,25000] \n",
    "\n",
    "res = dict(zip(Employee, Salary)) \n",
    "print(res) \n"
   ]
  },
  {
   "cell_type": "code",
   "execution_count": 15,
   "metadata": {},
   "outputs": [
    {
     "name": "stdout",
     "output_type": "stream",
     "text": [
      "Enter condition:False\n",
      "*********\n",
      " *******\n",
      "  *****\n",
      "   ***\n",
      "    *\n"
     ]
    }
   ],
   "source": [
    "\n",
    "condition = input(\"Enter condition:\")\n",
    "k = 0\n",
    "rows = 5\n",
    "\n",
    "if condition == \"True\":\n",
    "    for i in range(1, rows+1):\n",
    "        for space in range(1, (rows-i)+1):\n",
    "            print(end=\"  \")\n",
    "        while k != (2*i-1):\n",
    "            print(\"* \", end=\"\")\n",
    "            k = k + 1\n",
    "        k = 0\n",
    "        print()\n",
    "        \n",
    "elif condition ==\"False\" :\n",
    "    star_print=rows*2-1\n",
    "    for out in range(rows,0,-1):\n",
    "        for inn in range(rows,out,-1):\n",
    "            print(\" \",end=\"\")\n",
    "        for p in range(0,star_print):\n",
    "            print(\"*\",end=\"\")\n",
    "        star_print-=2\n",
    "        print(\"\\r\")\n",
    "else:\n",
    "    pass"
   ]
  },
  {
   "cell_type": "code",
   "execution_count": 4,
   "metadata": {},
   "outputs": [
    {
     "data": {
      "text/plain": [
       "'5. Write a snippet that resolves ancient Chinese puzzle:\\nWe count 35 heads and 94 legs among the chickens and rabbits in a farm. How many\\nrabbits and how many chickens do we have?\\nSuggestions: You can use \"for loop\" to iterate all possible conditions.'"
      ]
     },
     "execution_count": 4,
     "metadata": {},
     "output_type": "execute_result"
    }
   ],
   "source": [
    "'''5. Write a snippet that resolves ancient Chinese puzzle:\n",
    "We count 35 heads and 94 legs among the chickens and rabbits in a farm. How many\n",
    "rabbits and how many chickens do we have?\n",
    "Suggestions: You can use \"for loop\" to iterate all possible conditions.'''"
   ]
  },
  {
   "cell_type": "code",
   "execution_count": 20,
   "metadata": {},
   "outputs": [
    {
     "name": "stdout",
     "output_type": "stream",
     "text": [
      "Enter the total number of heads:35\n",
      "Enter the total number of legs:94\n",
      "Total chickens are 23 and Total rabitts are12\n"
     ]
    }
   ],
   "source": [
    "heads = int(input('Enter the total number of heads:'))\n",
    "legs = int(input('Enter the total number of legs:'))\n",
    "if legs % 2 !=0 or heads ==0 or heads > legs:\n",
    "    print('No solution')\n",
    "else:  \n",
    "    rabbits = int((legs + (-2*heads))/2)\n",
    "    chickens = int(heads - rabbits)\n",
    "    print('Total chickens are {} and Total rabitts are {}'.format(chickens,rabbits))\n"
   ]
  }
 ],
 "metadata": {
  "kernelspec": {
   "display_name": "Python 3",
   "language": "python",
   "name": "python3"
  },
  "language_info": {
   "codemirror_mode": {
    "name": "ipython",
    "version": 3
   },
   "file_extension": ".py",
   "mimetype": "text/x-python",
   "name": "python",
   "nbconvert_exporter": "python",
   "pygments_lexer": "ipython3",
   "version": "3.7.4"
  }
 },
 "nbformat": 4,
 "nbformat_minor": 2
}
